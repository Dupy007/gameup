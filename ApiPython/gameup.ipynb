{
 "cells": [
  {
   "cell_type": "code",
   "id": "ec2d10a3baa957b9",
   "metadata": {
    "ExecuteTime": {
     "end_time": "2025-02-17T12:02:13.668691Z",
     "start_time": "2025-02-17T12:02:12.174056Z"
    }
   },
   "source": [
    "# model_training.py\n",
    "from sklearn.neighbors import NearestNeighbors\n",
    "import pandas as pd\n",
    "import pickle\n",
    "\n",
    "\n",
    "\n",
    "def load_training_data(file_path: str = \"./gameup.csv\"):\n",
    "    return pd.read_csv(file_path)\n",
    "\n",
    "def train_knn_model(data: pd.DataFrame, n_neighbors: int = 5):\n",
    "    model = NearestNeighbors(n_neighbors=n_neighbors, algorithm='auto')\n",
    "    model.fit(data)\n",
    "    return model\n",
    "\n",
    "def save_model(model, filename: str=\"knn_model.pkl\"):\n",
    "    with open(filename, 'wb') as f:\n",
    "        pickle.dump(model, f)\n",
    "\n",
    "def load_model(filename: str=\"knn_model.pkl\"):\n",
    "    with open(filename, 'rb') as f:\n",
    "        return pickle.load(f)\n",
    "\n",
    "\n",
    "if __name__ == \"__main__\":\n",
    "    data = load_training_data(\"./gameup.csv\")\n",
    "    cleanData = data.drop(columns=[\"username\",\"game_name\"])\n",
    "    model = train_knn_model(cleanData)\n",
    "    save_model(model)\n",
    "\n"
   ],
   "outputs": [],
   "execution_count": 2
  }
 ],
 "metadata": {
  "kernelspec": {
   "display_name": "Python 3 (ipykernel)",
   "language": "python",
   "name": "python3"
  },
  "language_info": {
   "codemirror_mode": {
    "name": "ipython",
    "version": 3
   },
   "file_extension": ".py",
   "mimetype": "text/x-python",
   "name": "python",
   "nbconvert_exporter": "python",
   "pygments_lexer": "ipython3",
   "version": "3.13.1"
  }
 },
 "nbformat": 4,
 "nbformat_minor": 5
}
